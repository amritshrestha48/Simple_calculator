{
 "cells": [
  {
   "cell_type": "code",
   "execution_count": 2,
   "id": "6de44670",
   "metadata": {},
   "outputs": [],
   "source": [
    "import tkinter as tk\n",
    "\n",
    "# Function to update the display when a button is clicked\n",
    "def button_click(number):\n",
    "    current = entry.get()\n",
    "    entry.delete(0, tk.END)\n",
    "    entry.insert(0, current + str(number))\n",
    "\n",
    "# Function to clear the display\n",
    "def clear():\n",
    "    entry.delete(0, tk.END)\n",
    "\n",
    "# Function to evaluate the expression and display the result\n",
    "def evaluate():\n",
    "    try:\n",
    "        result = eval(entry.get())\n",
    "        entry.delete(0, tk.END)\n",
    "        entry.insert(0, result)\n",
    "    except:\n",
    "        entry.delete(0, tk.END)\n",
    "        entry.insert(0, \"Error\")\n",
    "\n",
    "# Create the main window\n",
    "window = tk.Tk()\n",
    "window.title(\"Simple Calculator\")\n",
    "\n",
    "# Create an entry widget to display the input and result\n",
    "entry = tk.Entry(window, width=20)\n",
    "entry.grid(row=0, column=0, columnspan=4)\n",
    "\n",
    "# Define the buttons\n",
    "buttons = [\n",
    "    '7', '8', '9', '/',\n",
    "    '4', '5', '6', '*',\n",
    "    '1', '2', '3', '-',\n",
    "    '0', 'C', '=', '+'\n",
    "]\n",
    "\n",
    "# Create and position the buttons\n",
    "row_val = 1\n",
    "col_val = 0\n",
    "for button in buttons:\n",
    "    if button == '=':\n",
    "        tk.Button(window, text=button, padx=20, pady=20, command=evaluate).grid(row=row_val, column=col_val)\n",
    "    elif button == 'C':\n",
    "        tk.Button(window, text=button, padx=20, pady=20, command=clear).grid(row=row_val, column=col_val)\n",
    "    else:\n",
    "        tk.Button(window, text=button, padx=20, pady=20, command=lambda num=button: button_click(num)).grid(row=row_val, column=col_val)\n",
    "    col_val += 1\n",
    "    if col_val > 3:\n",
    "        col_val = 0\n",
    "        row_val += 1\n",
    "\n",
    "# Start the main loop\n",
    "window.mainloop()\n"
   ]
  },
  {
   "cell_type": "code",
   "execution_count": null,
   "id": "818061f2",
   "metadata": {},
   "outputs": [],
   "source": []
  }
 ],
 "metadata": {
  "kernelspec": {
   "display_name": "Python 3 (ipykernel)",
   "language": "python",
   "name": "python3"
  },
  "language_info": {
   "codemirror_mode": {
    "name": "ipython",
    "version": 3
   },
   "file_extension": ".py",
   "mimetype": "text/x-python",
   "name": "python",
   "nbconvert_exporter": "python",
   "pygments_lexer": "ipython3",
   "version": "3.11.5"
  }
 },
 "nbformat": 4,
 "nbformat_minor": 5
}
